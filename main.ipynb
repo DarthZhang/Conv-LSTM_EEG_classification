{
 "cells": [
  {
   "cell_type": "markdown",
   "metadata": {},
   "source": [
    "# EEG Classification using CNN+LSTM model"
   ]
  },
  {
   "cell_type": "code",
   "execution_count": 1,
   "metadata": {},
   "outputs": [
    {
     "name": "stderr",
     "output_type": "stream",
     "text": [
      "Using TensorFlow backend.\n"
     ]
    }
   ],
   "source": [
    "import os\n",
    "import numpy as np\n",
    "import keras\n",
    "from keras.models import Sequential\n",
    "from keras.layers import Dense, LSTM, Conv1D, Dropout\n",
    "from keras.optimizers import RMSprop\n",
    "from keras.callbacks import Callback, ProgbarLogger, BaseLogger\n",
    "from keras import backend as K\n",
    "from keras.regularizers import l1_l2\n",
    "\n",
    "import data as dt"
   ]
  },
  {
   "cell_type": "code",
   "execution_count": 4,
   "metadata": {},
   "outputs": [
    {
     "data": {
      "text/plain": [
       "<module 'data' from 'data.py'>"
      ]
     },
     "execution_count": 4,
     "metadata": {},
     "output_type": "execute_result"
    }
   ],
   "source": [
    "reload(dt)"
   ]
  },
  {
   "cell_type": "code",
   "execution_count": 2,
   "metadata": {
    "collapsed": true
   },
   "outputs": [],
   "source": [
    "path_to_data = '/home/moskaleona/alenadir/data/rawData' #'C:/Users/alena/Desktop/homed/laba/data/rawData' "
   ]
  },
  {
   "cell_type": "code",
   "execution_count": 3,
   "metadata": {
    "collapsed": true
   },
   "outputs": [],
   "source": [
    "data = dt.DataBuildClassifier(path_to_data).get_data([25, 33], shuffle=True, random_state=1, resample_to=128, windows=[(0.2, 0.5)],baseline_window=(0.2, 0.3))"
   ]
  },
  {
   "cell_type": "code",
   "execution_count": 4,
   "metadata": {},
   "outputs": [
    {
     "name": "stdout",
     "output_type": "stream",
     "text": [
      "Percentage of target class: 64.027539 %\n",
      "Percentage of target class: 71.732523 %\n"
     ]
    }
   ],
   "source": [
    "print('Percentage of target class: %f %%'%(data[33][1].mean()*100))\n",
    "print('Percentage of target class: %f %%'%(data[25][1].mean()*100))"
   ]
  },
  {
   "cell_type": "code",
   "execution_count": 5,
   "metadata": {},
   "outputs": [
    {
     "name": "stdout",
     "output_type": "stream",
     "text": [
      "(581, 39, 19)\n",
      "(581,)\n"
     ]
    }
   ],
   "source": [
    "print (data[33][0].shape)\n",
    "print (data[33][1].shape)"
   ]
  },
  {
   "cell_type": "code",
   "execution_count": 6,
   "metadata": {
    "collapsed": true
   },
   "outputs": [],
   "source": [
    "from sklearn.model_selection import train_test_split\n",
    "\n",
    "X_train, X_val, y_train, y_val = train_test_split(data[33][0], data[33][1], test_size=0.2, stratify=data[33][1], random_state=108)"
   ]
  },
  {
   "cell_type": "code",
   "execution_count": 7,
   "metadata": {
    "collapsed": true
   },
   "outputs": [],
   "source": [
    "from sklearn.metrics import roc_auc_score\n",
    "import logging\n",
    "\n",
    "class LossMetricHistory(Callback):\n",
    "    def __init__(self, validation_data=(), verbose=1):\n",
    "        super(LossMetricHistory, self).__init__()\n",
    "        self.x_val, self.y_val = validation_data\n",
    "        self.verbose = verbose\n",
    "        self.logger = logging.getLogger(self.__class__.__name__)\n",
    "        self.logger.setLevel(logging.INFO)\n",
    "        console = logging.StreamHandler()\n",
    "        console.setLevel(logging.INFO)\n",
    "        formatter = logging.Formatter(\"%(message)s\")\n",
    "        console.setFormatter(formatter)\n",
    "        if len(self.logger.handlers) > 0:\n",
    "            self.logger.handlers = []\n",
    "        self.logger.addHandler(console)\n",
    "            \n",
    "    \n",
    "    def on_train_begin(self, logs={}):\n",
    "        self.logger.info(\"Training began\")\n",
    "        self.losses = []\n",
    "        self.val_losses = []\n",
    "        self.accs = []\n",
    "        self.val_accs = []\n",
    "        self.aucs = []\n",
    "    \n",
    "    def on_epoch_end(self, epoch, logs={}):\n",
    "        self.losses.append(logs.get('loss'))\n",
    "        self.accs.append(logs.get('acc'))\n",
    "        if self.x_val is not None and self.y_val is not None: \n",
    "            self.val_losses.append(logs.get('val_loss'))\n",
    "            self.val_accs.append(logs.get('val_acc'))\n",
    "            self.y_pred = self.model.predict_proba(self.x_val, verbose=0)\n",
    "            self.aucs.append(roc_auc_score(self.y_val, self.y_pred))\n",
    "            self.logger.info(\"epoch %d results: train loss = %.6f, val loss = %.6f\"%(epoch + 1, self.losses[-1], self.val_losses[-1]) + \n",
    "                             \"\\n\\t\\t\\tacc = %.6f, val acc = %.6f\"%(self.accs[-1], self.val_accs[-1]) +\n",
    "                             \"\\n\\t\\t\\tauc = %.6f\"%(self.aucs[-1]))\n",
    "        else:\n",
    "            self.logger.info(\"epoch %d results: train loss = %.6f\"%(epoch + 1, self.losses[-1]) + \n",
    "                             \"\\n\\t\\t\\tacc = %.6f\"%(self.accs[-1]))\n",
    "        "
   ]
  },
  {
   "cell_type": "code",
   "execution_count": 25,
   "metadata": {
    "collapsed": true
   },
   "outputs": [],
   "source": [
    "from sklearn.metrics import roc_auc_score, accuracy_score\n",
    "from sklearn.base import BaseEstimator, ClassifierMixin\n",
    "class CnnLstmClassifier(BaseEstimator, ClassifierMixin):\n",
    "    def __init__(self, loss='binary_crossentropy', n_filters=10, n_lstm=30, n_iter=150, batch_size=10,\n",
    "                 learning_rate=0.001, l1=0., l2=0.0, dropout=0., dropout_lstm=0., recurrent_dropout=0., threshold=0.5):\n",
    "        self.loss = loss\n",
    "        self.n_lstm = n_lstm\n",
    "        self.n_filters = n_filters\n",
    "        self.n_iter = n_iter\n",
    "        self.batch_size = batch_size\n",
    "        self.learning_rate = learning_rate\n",
    "        self.l1 = l1\n",
    "        self.l2 = l2\n",
    "        self.dropout = dropout\n",
    "        self.dropout_lstm = dropout_lstm\n",
    "        self.recurrent_dropout = recurrent_dropout\n",
    "        self.threshold = threshold\n",
    "    \n",
    "    def _make_test_model(self, input_shape):\n",
    "        self.model = Sequential()\n",
    "        self.model.add(Dense(1, input_shape=(741,), activation='sigmoid'))\n",
    "        \n",
    "    def _make_model(self, input_shape, dropout, dropout_lstm, recurrent_dropout):\n",
    "        batch_input_shape = (None, input_shape[1], input_shape[2])\n",
    "        self.model = Sequential()\n",
    "        self.model.add(Conv1D(self.n_filters, self.kernel_size_, batch_input_shape=batch_input_shape,\n",
    "                         activation='relu', kernel_regularizer=l1_l2(self.l1, self.l2)))\n",
    "        self.model.add(Dropout(dropout))\n",
    "        self.model.add(LSTM(self.n_lstm,\n",
    "                       dropout=dropout_lstm, recurrent_dropout=recurrent_dropout))\n",
    "        self.model.add(Dense(1, activation='sigmoid'))\n",
    "    \n",
    "    def fit(self, X_train, y_train, X_val=None, y_val=None, verbose=1):\n",
    "        # TODO: check the parameters\n",
    "        self.kernel_size_ = X_train.shape[2]\n",
    "        #self._make_test_model(X_train.shape)\n",
    "        self._make_model(X_train.shape, self.dropout, self.dropout_lstm, self.recurrent_dropout)\n",
    "        self.optimizer_ = RMSprop(lr=self.learning_rate)\n",
    "        self.model.compile(loss=self.loss, optimizer=self.optimizer_, metrics=['acc'])\n",
    "\n",
    "        #self.log_ = LossMetricHistory(validation_data=(X_val, y_val))#BaseLogger()\n",
    "        self.hist_ = self.model.fit(X_train, y_train,\n",
    "                        batch_size=self.batch_size,\n",
    "                        epochs=self.n_iter) \n",
    "                        #validation_data=(X_val, y_val), verbose=verbose, callbacks=[self.log_])\n",
    "        return self.hist_\n",
    "    \n",
    "    def predict(self, X):\n",
    "        '''\n",
    "        try:\n",
    "            getattr(self, \"kernel_size_\")\n",
    "        except AttributeError:\n",
    "            raise RuntimeError(\"You must train classifer before predicting data!\")\n",
    "        '''\n",
    "        proba = self.model.predict(X)\n",
    "        return (proba > self.threshold).astype('int32')\n",
    "    \n",
    "    def predict_proba(self, X):\n",
    "        '''\n",
    "        try:\n",
    "            getattr(self, \"kernel_size_\")\n",
    "        except AttributeError:\n",
    "            raise RuntimeError(\"You must train classifer before predicting data!\")\n",
    "        '''\n",
    "        return self.model.predict(X)\n",
    "    \n",
    "    \n",
    "    def score(self, X, y, scoring='auc'):\n",
    "        try:\n",
    "            if scoring=='auc':\n",
    "                return roc_auc_score(y, self.predict_proba(X))\n",
    "            elif scoring=='acc':\n",
    "                return accuracy_score(y, self.predict(X))\n",
    "            else:\n",
    "                raise ValueError(message=\"No such option: '%s'. Use 'auc' or 'acc'\"%str(scoring))\n",
    "        except ValueError as err:\n",
    "            print(err)\n",
    "    "
   ]
  },
  {
   "cell_type": "markdown",
   "metadata": {},
   "source": [
    "## Hyperparameter tuning"
   ]
  },
  {
   "cell_type": "code",
   "execution_count": 6,
   "metadata": {
    "collapsed": true
   },
   "outputs": [],
   "source": [
    "from sklearn.model_selection import GridSearchCV, StratifiedShuffleSplit"
   ]
  },
  {
   "cell_type": "code",
   "execution_count": 7,
   "metadata": {
    "collapsed": true
   },
   "outputs": [],
   "source": [
    "'''\n",
    "parameters_grid = {\n",
    "    'n_iter' : [100, 200, 300],\n",
    "    'l1' : [0., 0.2, 0.4, 0.6],\n",
    "    'l2' : [0., 0.2, 0.4, 0.6],\n",
    "    'dropout' : [0., 0.2, 0.4, 0.6],\n",
    "    'dropout_lstm' : [0., 0.2, 0.4, 0.6],\n",
    "    'recurrent_dropout' : [0., 0.2, 0.4, 0.6],\n",
    "}\n",
    "'''\n",
    "parameters_grid = {\n",
    "    'n_iter' : [2,3],\n",
    "    'l1' : [0., 0.2]\n",
    "}"
   ]
  },
  {
   "cell_type": "code",
   "execution_count": 26,
   "metadata": {
    "collapsed": true
   },
   "outputs": [],
   "source": [
    "clf = CnnLstmClassifier(n_lstm=3, n_filters=2, batch_size=10)\n",
    "cv = StratifiedShuffleSplit( n_splits=2, test_size = 0.5, random_state = 108)\n",
    "gs = GridSearchCV(clf, parameters_grid, scoring=None, cv = cv)"
   ]
  },
  {
   "cell_type": "code",
   "execution_count": 29,
   "metadata": {},
   "outputs": [
    {
     "name": "stdout",
     "output_type": "stream",
     "text": [
      "Epoch 1/2\n",
      "232/232 [==============================] - 2s 7ms/step - loss: 0.7194 - acc: 0.4871\n",
      "Epoch 2/2\n",
      "232/232 [==============================] - 1s 3ms/step - loss: 0.6998 - acc: 0.5388\n",
      "trying to predict...\n",
      "('X shape:', (232, 39, 19))\n",
      "('y_pred shape, y shape', (232, 1), (232,))\n",
      "trying to get auc...\n",
      "('roc auc score:', 0.53335489609444497)\n",
      "trying to predict...\n",
      "('X shape:', (232, 39, 19))\n",
      "('y_pred shape, y shape', (232, 1), (232,))\n",
      "trying to get auc...\n",
      "('roc auc score:', 0.58108108108108103)\n",
      "Epoch 1/2\n",
      "232/232 [==============================] - 2s 7ms/step - loss: 0.7324 - acc: 0.4698\n",
      "Epoch 2/2\n",
      "232/232 [==============================] - 1s 2ms/step - loss: 0.7003 - acc: 0.5172\n",
      "trying to predict...\n",
      "('X shape:', (232, 39, 19))\n",
      "('y_pred shape, y shape', (232, 1), (232,))\n",
      "trying to get auc...\n",
      "('roc auc score:', 0.44036548880084098)\n",
      "trying to predict...\n",
      "('X shape:', (232, 39, 19))\n",
      "('y_pred shape, y shape', (232, 1), (232,))\n",
      "trying to get auc...\n",
      "('roc auc score:', 0.57697876447876451)\n",
      "Epoch 1/3\n",
      "232/232 [==============================] - 2s 7ms/step - loss: 0.8920 - acc: 0.4224\n",
      "Epoch 2/3\n",
      "232/232 [==============================] - 1s 3ms/step - loss: 0.8385 - acc: 0.4828\n",
      "Epoch 3/3\n",
      "232/232 [==============================] - 1s 3ms/step - loss: 0.8006 - acc: 0.5086\n",
      "trying to predict...\n",
      "('X shape:', (232, 39, 19))\n",
      "('y_pred shape, y shape', (232, 1), (232,))\n",
      "trying to get auc...\n",
      "('roc auc score:', 0.56392010997008157)\n",
      "trying to predict...\n",
      "('X shape:', (232, 39, 19))\n",
      "('y_pred shape, y shape', (232, 1), (232,))\n",
      "trying to get auc...\n",
      "('roc auc score:', 0.56499356499356501)\n",
      "Epoch 1/3\n",
      "232/232 [==============================] - 2s 8ms/step - loss: 0.7594 - acc: 0.5733\n",
      "Epoch 2/3\n",
      "232/232 [==============================] - 1s 3ms/step - loss: 0.6850 - acc: 0.6379\n",
      "Epoch 3/3\n",
      "232/232 [==============================] - 1s 3ms/step - loss: 0.6669 - acc: 0.6552\n",
      "trying to predict...\n",
      "('X shape:', (232, 39, 19))\n",
      "('y_pred shape, y shape', (232, 1), (232,))\n",
      "trying to get auc...\n",
      "('roc auc score:', 0.45920595132206676)\n",
      "trying to predict...\n",
      "('X shape:', (232, 39, 19))\n",
      "('y_pred shape, y shape', (232, 1), (232,))\n",
      "trying to get auc...\n",
      "('roc auc score:', 0.56113256113256105)\n",
      "Epoch 1/2\n",
      "232/232 [==============================] - 2s 10ms/step - loss: 7.4219 - acc: 0.5819\n",
      "Epoch 2/2\n",
      "232/232 [==============================] - 1s 3ms/step - loss: 5.0039 - acc: 0.6379\n",
      "trying to predict...\n",
      "('X shape:', (232, 39, 19))\n",
      "('y_pred shape, y shape', (232, 1), (232,))\n",
      "trying to get auc...\n",
      "('roc auc score:', 0.48350448774965632)\n",
      "trying to predict...\n",
      "('X shape:', (232, 39, 19))\n",
      "('y_pred shape, y shape', (232, 1), (232,))\n",
      "trying to get auc...\n",
      "('roc auc score:', 0.54235038610038611)\n",
      "Epoch 1/2\n",
      "232/232 [==============================] - 2s 8ms/step - loss: 7.4729 - acc: 0.6034\n",
      "Epoch 2/2\n",
      "232/232 [==============================] - 1s 3ms/step - loss: 4.8151 - acc: 0.6293\n",
      "trying to predict...\n",
      "('X shape:', (232, 39, 19))\n",
      "('y_pred shape, y shape', (232, 1), (232,))\n",
      "trying to get auc...\n",
      "('roc auc score:', 0.48346405757257216)\n",
      "trying to predict...\n",
      "('X shape:', (232, 39, 19))\n",
      "('y_pred shape, y shape', (232, 1), (232,))\n",
      "trying to get auc...\n",
      "('roc auc score:', 0.53675997425997424)\n",
      "Epoch 1/3\n",
      "232/232 [==============================] - 2s 9ms/step - loss: 7.3314 - acc: 0.6422\n",
      "Epoch 2/3\n",
      "232/232 [==============================] - 1s 3ms/step - loss: 4.7533 - acc: 0.6379\n",
      "Epoch 3/3\n",
      "232/232 [==============================] - 1s 3ms/step - loss: 3.0795 - acc: 0.6379\n",
      "trying to predict...\n",
      "('X shape:', (232, 39, 19))\n",
      "('y_pred shape, y shape', (232, 1), (232,))\n",
      "trying to get auc...\n",
      "('roc auc score:', 0.50448774965634346)\n",
      "trying to predict...\n",
      "('X shape:', (232, 39, 19))\n",
      "('y_pred shape, y shape', (232, 1), (232,))\n",
      "trying to get auc...\n",
      "('roc auc score:', 0.55148005148005141)\n",
      "Epoch 1/3\n",
      "232/232 [==============================] - 2s 9ms/step - loss: 7.8021 - acc: 0.4957\n",
      "Epoch 2/3\n",
      "232/232 [==============================] - 1s 2ms/step - loss: 4.9101 - acc: 0.5216\n",
      "Epoch 3/3\n",
      "232/232 [==============================] - 1s 3ms/step - loss: 2.8755 - acc: 0.5560\n",
      "trying to predict...\n",
      "('X shape:', (232, 39, 19))\n",
      "('y_pred shape, y shape', (232, 1), (232,))\n",
      "trying to get auc...\n",
      "('roc auc score:', 0.56206032182420951)\n",
      "trying to predict...\n",
      "('X shape:', (232, 39, 19))\n",
      "('y_pred shape, y shape', (232, 1), (232,))\n",
      "trying to get auc...\n",
      "('roc auc score:', 0.53547297297297303)\n",
      "Epoch 1/3\n",
      "464/464 [==============================] - 3s 6ms/step - loss: 6.3461 - acc: 0.4849\n",
      "Epoch 2/3\n",
      "464/464 [==============================] - 1s 2ms/step - loss: 2.8644 - acc: 0.5388\n",
      "Epoch 3/3\n",
      "464/464 [==============================] - 1s 2ms/step - loss: 1.2380 - acc: 0.6207\n"
     ]
    },
    {
     "data": {
      "text/plain": [
       "0"
      ]
     },
     "execution_count": 29,
     "metadata": {},
     "output_type": "execute_result"
    }
   ],
   "source": [
    "#clf.get_params().keys()\n",
    "gs.fit(X_train, y_train)"
   ]
  },
  {
   "cell_type": "code",
   "execution_count": 35,
   "metadata": {},
   "outputs": [
    {
     "data": {
      "text/plain": [
       "CnnLstmClassifier(batch_size=10, dropout=0.0, dropout_lstm=0.0, l1=0.2,\n",
       "         l2=0.0, learning_rate=0.001, loss='binary_crossentropy',\n",
       "         n_filters=2, n_iter=3, n_lstm=3, recurrent_dropout=0.0,\n",
       "         threshold=0.5)"
      ]
     },
     "execution_count": 35,
     "metadata": {},
     "output_type": "execute_result"
    }
   ],
   "source": [
    "gs.best_estimator_"
   ]
  },
  {
   "cell_type": "code",
   "execution_count": null,
   "metadata": {
    "collapsed": true,
    "scrolled": true
   },
   "outputs": [],
   "source": [
    "clf = CnnLstmClassifier(n_lstm=30, n_filters=10)\n",
    "#clf.train(data[33][0][:3,...].flatten().reshape(3, -1), data[33][1][:3,], data[33][0][4:7,...].flatten().reshape(3, -1), data[33][1][4:7,], n_epochs=5)\n",
    "clf.fit(X_train, y_train, X_val, y_val, n_iter=100)"
   ]
  },
  {
   "cell_type": "code",
   "execution_count": null,
   "metadata": {
    "collapsed": true
   },
   "outputs": [],
   "source": [
    "import matplotlib.pyplot as plt\n",
    "% matplotlib inline\n",
    "# Without regularization\n",
    "n_epochs = 100\n",
    "trainloss, = plt.plot(np.arange(n_epochs), clf.log.losses, label='train loss')\n",
    "plt.legend(handles=[trainloss])\n",
    "plt.show()\n",
    "trainloss, = plt.plot(np.arange(n_epochs), clf.log.losses, label='train loss')\n",
    "valloss, = plt.plot(np.arange(n_epochs), clf.log.val_losses, label='validation loss')\n",
    "plt.legend(handles=[trainloss, valloss])\n",
    "plt.show()"
   ]
  },
  {
   "cell_type": "code",
   "execution_count": null,
   "metadata": {
    "collapsed": true,
    "scrolled": true
   },
   "outputs": [],
   "source": [
    "clf_reg = CnnLstmClassifier(n_lstm=30, n_filters=10)\n",
    "clf_reg.fit(X_train, y_train, X_val, y_val, n_iter=300, learning_rate=1e-5, l1=0.0001, l2=0.0001, dropout=0.5, dropout_lstm=0.5, recurrent_dropout=0.5)"
   ]
  },
  {
   "cell_type": "code",
   "execution_count": null,
   "metadata": {
    "collapsed": true
   },
   "outputs": [],
   "source": [
    "import matplotlib.pyplot as plt\n",
    "% matplotlib inline\n",
    "# With regularization and dropout\n",
    "n_epochs = 300\n",
    "trainloss, = plt.plot(np.arange(n_epochs), clf_reg.log.losses, label='train loss')\n",
    "plt.legend(handles=[trainloss])\n",
    "plt.show()\n",
    "trainloss, = plt.plot(np.arange(n_epochs), clf_reg.log.losses, label='train loss')\n",
    "valloss, = plt.plot(np.arange(n_epochs), clf_reg.log.val_losses, label='validation loss')\n",
    "plt.legend(handles=[trainloss, valloss])\n",
    "plt.show()\n",
    "plt.title('test AUC')\n",
    "plt.plot(np.arange(n_epochs), clf_reg.log.aucs)\n",
    "plt.ylabel('AUC')\n",
    "plt.show()"
   ]
  },
  {
   "cell_type": "markdown",
   "metadata": {},
   "source": [
    "## Короче, сама напишу grid search"
   ]
  },
  {
   "cell_type": "code",
   "execution_count": null,
   "metadata": {
    "collapsed": true
   },
   "outputs": [],
   "source": [
    "class GridSearch:\n",
    "    def __init__(self, model=None, ):"
   ]
  }
 ],
 "metadata": {
  "kernelspec": {
   "display_name": "Python 2",
   "language": "python",
   "name": "python2"
  },
  "language_info": {
   "codemirror_mode": {
    "name": "ipython",
    "version": 2
   },
   "file_extension": ".py",
   "mimetype": "text/x-python",
   "name": "python",
   "nbconvert_exporter": "python",
   "pygments_lexer": "ipython2",
   "version": "2.7.14"
  }
 },
 "nbformat": 4,
 "nbformat_minor": 2
}
