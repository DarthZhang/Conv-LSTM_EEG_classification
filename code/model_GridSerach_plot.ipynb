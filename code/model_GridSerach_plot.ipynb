{
 "cells": [
  {
   "cell_type": "markdown",
   "metadata": {},
   "source": [
    "# EEG Classification using Conv-LSTM model\n",
    "Here we do hyperparameter grid search by making own GridSearch object and without using library functions or objects (such as GridSearchCV from sklearn). We need to create such an object, because it is not correct to compare neural networks by scores after a fixed number of epochs (due to overfiting and so on) and we need to plot learning curves."
   ]
  },
  {
   "cell_type": "code",
   "execution_count": 1,
   "metadata": {
    "scrolled": true
   },
   "outputs": [
    {
     "name": "stderr",
     "output_type": "stream",
     "text": [
      "Using TensorFlow backend.\n"
     ]
    }
   ],
   "source": [
    "import os\n",
    "import numpy as np\n",
    "import keras\n",
    "from keras.models import Sequential, load_model\n",
    "from keras.layers import Dense, LSTM, Conv1D, Dropout\n",
    "from keras.optimizers import RMSprop\n",
    "from keras.callbacks import Callback\n",
    "from keras import backend as K\n",
    "from keras.regularizers import l1_l2\n",
    "\n",
    "from src import data as dt"
   ]
  },
  {
   "cell_type": "code",
   "execution_count": 2,
   "metadata": {
    "collapsed": true
   },
   "outputs": [],
   "source": [
    "#import keras.backend as K\n",
    "#K.tf.device('/gpu:0')\n",
    "#K.set_session(K.tf.Session(config=K.tf.ConfigProto(allow_soft_placement=True, log_device_placement=True)))"
   ]
  },
  {
   "cell_type": "code",
   "execution_count": 2,
   "metadata": {
    "collapsed": true
   },
   "outputs": [],
   "source": [
    "path_to_data = '../sample_data' #'/home/moskaleona/alenadir/data/rawData' #'C:/Users/alena/Desktop/homed/laba/data/rawData' "
   ]
  },
  {
   "cell_type": "code",
   "execution_count": 3,
   "metadata": {
    "collapsed": true
   },
   "outputs": [],
   "source": [
    "data = dt.DataBuildClassifier(path_to_data).get_data([33], shuffle=True, random_state=1, resample_to=128, windows=[(0.2, 0.5)],baseline_window=(0.2, 0.3))"
   ]
  },
  {
   "cell_type": "code",
   "execution_count": 4,
   "metadata": {
    "collapsed": true
   },
   "outputs": [],
   "source": [
    "from sklearn.model_selection import train_test_split\n",
    "X, y = data[33][0], data[33][1]\n",
    "X_train, X_test, y_train, y_test = train_test_split(data[33][0], data[33][1], test_size=0.2, stratify=data[33][1], random_state=108)"
   ]
  },
  {
   "cell_type": "code",
   "execution_count": 5,
   "metadata": {
    "collapsed": true
   },
   "outputs": [],
   "source": [
    "from sklearn.metrics import roc_auc_score, roc_curve\n",
    "import logging\n",
    "\n",
    "class LossMetricHistory(Callback):\n",
    "    def __init__(self, n_iter, validation_data=(None,None), verbose=1, filename=None):\n",
    "        super(LossMetricHistory, self).__init__()\n",
    "        self.n_iter = n_iter\n",
    "        self.x_val, self.y_val = validation_data\n",
    "        self.filename = filename\n",
    "        if self.x_val is not None and self.y_val is not None:\n",
    "            self.validate = True\n",
    "        else:\n",
    "            self.validate = False\n",
    "        self.verbose = verbose\n",
    "        \n",
    "        self.logger = logging.getLogger(self.__class__.__name__)\n",
    "        self.logger.setLevel(logging.INFO)\n",
    "        console = logging.StreamHandler()\n",
    "        console.setLevel(logging.INFO)\n",
    "        formatter = logging.Formatter(\"%(message)s\")\n",
    "        console.setFormatter(formatter)\n",
    "        if len(self.logger.handlers) > 0:\n",
    "            self.logger.handlers = []\n",
    "        self.logger.addHandler(console)\n",
    "            \n",
    "    \n",
    "    def on_train_begin(self, logs={}):\n",
    "        if self.verbose > 0:\n",
    "            self.logger.info(\"Training began\")\n",
    "        self.losses = []\n",
    "        self.val_losses = []\n",
    "        self.accs = [] # accuracy scores\n",
    "        self.val_accs = [] # validation accuracy scores\n",
    "        self.aucs = []# validation ROC AUC scores\n",
    "        self.sens = []# validation sensitivity (or True Positive Rate) scores\n",
    "        self.spc = [] # validation specificity scores\n",
    "        self.thresholds = [] # Decreasing thresholds used to compute specificity and sensitivity\n",
    "        \n",
    "        self.maxauc = 0\n",
    "        self.bestepoch = 0\n",
    "    \n",
    "    def on_epoch_end(self, epoch, logs={}):\n",
    "        self.losses.append(logs.get('loss'))\n",
    "        self.accs.append(logs.get('acc'))\n",
    "        if self.validate: \n",
    "            self.val_losses.append(logs.get('val_loss'))\n",
    "            self.val_accs.append(logs.get('val_acc'))\n",
    "            self.y_pred = self.model.predict_proba(self.x_val, verbose=0)\n",
    "            self.aucs.append(roc_auc_score(self.y_val, self.y_pred))\n",
    "            \n",
    "            FPR, TPR, thresholds = roc_curve(self.y_val, self.y_pred)\n",
    "            self.sens.append(TPR)\n",
    "            self.spc.append(1-FPR)\n",
    "            self.thresholds.append(thresholds)\n",
    "            \n",
    "            if self.aucs[-1] > self.maxauc:\n",
    "                self.maxauc = self.aucs[-1]\n",
    "                self.bestepoch = epoch\n",
    "                if self.filename is not None:\n",
    "                    self.model.save(self.filename)\n",
    "            \n",
    "            if self.verbose > 0:\n",
    "                self.logger.info(\"Epoch %d/%d: train loss = %.6f, test loss = %.6f\"%(epoch+1, self.n_iter, \n",
    "                                                                    self.losses[-1],self.val_losses[-1]) + \n",
    "                                 \"\\n\\tacc = %.6f, test acc = %.6f\"%(self.accs[-1], self.val_accs[-1]) +\n",
    "                                 \"\\n\\tauc = %.6f\"%(self.aucs[-1]))\n",
    "        elif self.verbose > 0:\n",
    "            self.logger.info(\"Epoch %d/%d results: train loss = %.6f\"%(epoch+1, self.n_iter, self.losses[-1]) + \n",
    "                             \"\\n\\t\\t\\tacc = %.6f\"%(self.accs[-1]))\n",
    "    def on_train_end(self, logs={}):\n",
    "        self.losses = np.array(self.losses)\n",
    "        if self.validate:\n",
    "            self.val_losses = np.array(self.val_losses)\n",
    "            self.scores = {}\n",
    "            self.scores['auc'] = np.array(self.aucs)\n",
    "            self.scores['acc'] = np.array(self.val_accs)\n",
    "            self.scores['sens'] = np.array(self.sens)\n",
    "            self.scores['spc'] = np.array(self.spc)\n",
    "            self.scores['thresholds'] = np.array(self.thresholds)\n",
    "        "
   ]
  },
  {
   "cell_type": "code",
   "execution_count": 6,
   "metadata": {
    "collapsed": true
   },
   "outputs": [],
   "source": [
    "import re\n",
    "import matplotlib.pyplot as plt\n",
    "from sklearn.metrics import roc_auc_score, roc_curve, accuracy_score\n",
    "from sklearn.base import BaseEstimator, ClassifierMixin\n",
    "\n",
    "class CnnLstmClassifier(BaseEstimator, ClassifierMixin):\n",
    "    def __init__(self, loss='binary_crossentropy', n_filters=10, n_lstm=30, n_iter=150,\n",
    "                 batch_size=10,learning_rate=0.001, l1=0., l2=0.0, dropout=0.,\n",
    "                 dropout_lstm=0., recurrent_dropout=0., threshold=0.5):\n",
    "        self.loss = loss\n",
    "        self.n_lstm = n_lstm\n",
    "        self.n_filters = n_filters\n",
    "        self.n_iter = n_iter\n",
    "        self.batch_size = batch_size\n",
    "        self.learning_rate = learning_rate\n",
    "        self.l1 = l1\n",
    "        self.l2 = l2\n",
    "        self.dropout = dropout\n",
    "        self.dropout_lstm = dropout_lstm\n",
    "        self.recurrent_dropout = recurrent_dropout\n",
    "        self.threshold = threshold\n",
    "        \n",
    "    def _make_model(self, input_shape):\n",
    "        batch_input_shape = (None, input_shape[1], input_shape[2])\n",
    "        self.model = Sequential()\n",
    "        self.model.add(Conv1D(self.n_filters, self.kernel_size_, batch_input_shape=batch_input_shape,\n",
    "                         activation='relu', kernel_regularizer=l1_l2(self.l1, self.l2)))\n",
    "        self.model.add(Dropout(self.dropout))\n",
    "        self.model.add(LSTM(self.n_lstm,\n",
    "                       dropout=self.dropout_lstm, recurrent_dropout=self.recurrent_dropout))\n",
    "        self.model.add(Dense(1, activation='sigmoid'))\n",
    "        \n",
    "    def _plot_loss(self,fname=None):\n",
    "        plt.title('Learning curves')\n",
    "        plt.xlabel('epoch')\n",
    "        plt.plot(np.arange(1, len(self.log_.losses)+1),self.log_.losses, color='tab:blue', label='train loss')\n",
    "        plt.plot(np.arange(1, len(self.log_.val_losses)+1),self.log_.val_losses, color='tab:orange', label='test loss')\n",
    "        plt.legend()\n",
    "        if fname is not None:\n",
    "            plt.savefig(fname)\n",
    "            plt.clf()\n",
    "            plt.cla()\n",
    "        else:\n",
    "            plt.show()\n",
    "    \n",
    "    def _plot_scores(self,scoring,fname=None):\n",
    "        plt.title('Validation '+scoring)\n",
    "        plt.xlabel('epoch')\n",
    "        plt.ylabel(scoring)\n",
    "        plt.plot(np.arange(1, len(self.log_.aucs)+1),self.log_.aucs, color='b')\n",
    "        if fname is not None:\n",
    "            plt.savefig(fname)\n",
    "            plt.clf()\n",
    "            plt.cla()\n",
    "        else:\n",
    "            plt.show()\n",
    "    \n",
    "    def fit(self, X_train, y_train, X_val=None, y_val=None, scoring='auc',n_iter=None,\n",
    "            verbose=1, plotcurves=False, fname_loss=None, fname_score=None, fname_bestmodel=None):\n",
    "        # TODO: check the parameters\n",
    "        if verbose > 0:\n",
    "            print(\"Training model with parameters:\", self.get_params())\n",
    "        if n_iter is not None:\n",
    "            self.n_iter = n_iter\n",
    "        \n",
    "        self.kernel_size_ = X_train.shape[2]\n",
    "        self._make_model(X_train.shape)\n",
    "        self.optimizer_ = RMSprop(lr=self.learning_rate)\n",
    "        self.model.compile(loss=self.loss, optimizer=self.optimizer_, metrics=['acc'])\n",
    "        \n",
    "        if X_val is not None and y_val is not None:\n",
    "            self.log_ = LossMetricHistory(n_iter=self.n_iter, \n",
    "                                          validation_data=(X_val, y_val), verbose=verbose, filename=fname_bestmodel)\n",
    "            self.hist_ = self.model.fit(X_train, y_train,\n",
    "                                        batch_size=self.batch_size,\n",
    "                                        epochs=self.n_iter, validation_data=(X_val, y_val),\n",
    "                                        verbose=0, callbacks=[self.log_])\n",
    "            \n",
    "            self.best_score_ = self.log_.scores[scoring].max()\n",
    "            if plotcurves:\n",
    "                self._plot_loss(fname_loss)\n",
    "                self._plot_scores(scoring, fname_score)\n",
    "        else:\n",
    "            self.log_ = LossMetricHistory(n_iter=self.n_iter)\n",
    "            self.hist_ = self.model.fit(X_train, y_train,\n",
    "                                        batch_size=self.batch_size,\n",
    "                                        epochs=self.n_iter,\n",
    "                                        verbose=verbose, callbacks=[self.log_])\n",
    "        self.fit_ = True\n",
    "        return self\n",
    "    \n",
    "    def predict(self, X):\n",
    "        try:\n",
    "            getattr(self, \"fit_\")\n",
    "        except AttributeError:\n",
    "            raise RuntimeError(\"You must train classifier before predicting data!\")\n",
    "        \n",
    "        proba = self.model.predict(X)\n",
    "        return (proba > self.threshold).astype('int32')\n",
    "    \n",
    "    def predict_proba(self, X):\n",
    "        \n",
    "        try:\n",
    "            getattr(self, \"fit_\")\n",
    "        except AttributeError:\n",
    "            raise RuntimeError(\"You must train classifier before predicting data!\")\n",
    "        \n",
    "        return self.model.predict(X)\n",
    "    \n",
    "    \n",
    "    def score(self, X, y, scoring='auc'):\n",
    "        try:\n",
    "            if scoring=='auc':\n",
    "                return roc_auc_score(y, self.predict_proba(X))\n",
    "            elif scoring=='acc':\n",
    "                return accuracy_score(y, self.predict(X))\n",
    "            else:\n",
    "                raise ValueError(message=\"No such option: '%s'. Use 'auc' or 'acc'\"%str(scoring))\n",
    "        except ValueError as err:\n",
    "            print(err)\n",
    "            \n",
    "    def set_model(self, model):\n",
    "        assert \\\n",
    "        str(type(model))==\"<class 'keras.models.Sequential'>\" or\\\n",
    "        str(type(model))==\"<type 'str'>\" and re.match(r'.*[^\\s]\\.hdf5$', filename),\\\n",
    "        \"Model type should be keras.models.Sequential or HDF5 file\"\n",
    "        if str(type(model))==\"<class 'keras.models.Sequential'>\": \n",
    "            self.model = model\n",
    "        else:\n",
    "            self.model = load_model(model)\n",
    "        self.n_filters = None\n",
    "        self.n_lstm = None\n",
    "        self.kernel_size_ = None\n",
    "        self.dropout = None\n",
    "        self.dropout_lstm = None\n",
    "        self.recurrent_dropout = None\n",
    "        self.fit_ = True\n",
    "    "
   ]
  },
  {
   "cell_type": "markdown",
   "metadata": {},
   "source": [
    "### Testing that everything is working"
   ]
  },
  {
   "cell_type": "code",
   "execution_count": 7,
   "metadata": {
    "scrolled": true
   },
   "outputs": [
    {
     "name": "stdout",
     "output_type": "stream",
     "text": [
      "('Training model with parameters:', {'loss': 'binary_crossentropy', 'recurrent_dropout': 0.0, 'n_iter': 3, 'learning_rate': 0.001, 'batch_size': 10, 'n_filters': 10, 'l2': 0.0, 'n_lstm': 30, 'l1': 0.0, 'threshold': 0.5, 'dropout_lstm': 0.0, 'dropout': 0.0})\n"
     ]
    },
    {
     "name": "stderr",
     "output_type": "stream",
     "text": [
      "Training began\n",
      "Epoch 1/3: train loss = 0.700143, test loss = 0.704361\n",
      "\tacc = 0.581897, test acc = 0.623932\n",
      "\tauc = 0.470476\n",
      "Epoch 2/3: train loss = 0.605901, test loss = 0.674746\n",
      "\tacc = 0.670259, test acc = 0.675214\n",
      "\tauc = 0.564444\n",
      "Epoch 3/3: train loss = 0.580283, test loss = 0.720637\n",
      "\tacc = 0.691810, test acc = 0.632479\n",
      "\tauc = 0.498095\n"
     ]
    },
    {
     "data": {
      "image/png": "[encoded data removed]",
      "text/plain": [
       "<matplotlib.figure.Figure at 0x7fe736e2a450>"
      ]
     },
     "metadata": {},
     "output_type": "display_data"
    },
    {
     "data": {
      "image/png": "[encoded data removed]",
      "text/plain": [
       "<matplotlib.figure.Figure at 0x7fe728684bd0>"
      ]
     },
     "metadata": {},
     "output_type": "display_data"
    },
    {
     "data": {
      "text/plain": [
       "CnnLstmClassifier(batch_size=10, dropout=0.0, dropout_lstm=0.0, l1=0.0,\n",
       "         l2=0.0, learning_rate=0.001, loss='binary_crossentropy',\n",
       "         n_filters=10, n_iter=3, n_lstm=30, recurrent_dropout=0.0,\n",
       "         threshold=0.5)"
      ]
     },
     "execution_count": 7,
     "metadata": {},
     "output_type": "execute_result"
    }
   ],
   "source": [
    "%matplotlib inline\n",
    "clf = CnnLstmClassifier(n_iter=3)\n",
    "clf.fit(X_train, y_train, X_val=X_test, y_val=y_test, verbose=2, plotcurves=True)"
   ]
  },
  {
   "cell_type": "markdown",
   "metadata": {},
   "source": [
    "## Hyperparameter tuning"
   ]
  },
  {
   "cell_type": "code",
   "execution_count": 7,
   "metadata": {
    "collapsed": true
   },
   "outputs": [],
   "source": [
    "from sklearn.model_selection import ParameterGrid\n",
    "from sklearn.base import clone\n",
    "from functools import reduce\n",
    "\n",
    "class GridSearch:\n",
    "    def __init__(self, estimator, param_grid, scoring='auc',\n",
    "                 cv=None, verbose=0, plot_scores=True, refit=True):\n",
    "        self.estimator = estimator\n",
    "        self.param_grid = param_grid\n",
    "        self.scoring = scoring\n",
    "        self.cv = cv\n",
    "        self.verbose = verbose\n",
    "        self.plot_scores = plot_scores\n",
    "        self.refit = refit\n",
    "    \n",
    "    def _get_param_iterator(self):\n",
    "        \"\"\"Return ParameterGrid instance for the given param_grid\"\"\"\n",
    "        return ParameterGrid(self.param_grid)\n",
    "    \n",
    "    def _save_results(self, path, index, fold, estimator):\n",
    "        if not os.path.isdir(path):\n",
    "            os.mkdir(path)\n",
    "        if not os.path.isdir(os.path.join(path, index)):\n",
    "            os.mkdir(os.path.join(path, index))\n",
    "        \n",
    "        path_to_results = os.path.join(path, index, fold)\n",
    "        if not os.path.isdir(path_to_results):\n",
    "            os.mkdir(path_to_results)\n",
    "        \n",
    "        os.rename(os.path.join(path,'tmp','loss.png'), os.path.join(path_to_results,'loss'+index+'.png'))\n",
    "        os.rename(os.path.join(path,'tmp','score.png'), os.path.join(path_to_results,self.scoring+index+'.png'))\n",
    "        os.rename(os.path.join(path,'tmp','model'+index+str(fold)+'.hdf5'),\n",
    "                  os.path.join(path, index, 'model'+index+str(fold)+'.hdf5'))\n",
    "        \n",
    "        params = {self.scoring:estimator.log_.scores[self.scoring],\n",
    "                'accuracy':estimator.log_.scores[self.scoring],\n",
    "                'spc':estimator.log_.scores['spc'],\n",
    "                'sens':estimator.log_.scores['sens'],\n",
    "                'thresholds':estimator.log_.scores['thresholds']}\n",
    "            \n",
    "        np.savez(os.path.join(path_to_results,'scores'+index),\n",
    "                **params)\n",
    "    \n",
    "        \n",
    "    def fit(self, X_train, y_train, X_test, y_test, groups=None, scoring='auc', path_to_results=None):\n",
    "        n_splits = cv.get_n_splits(X, y, groups)\n",
    "        candidate_params = list(self._get_param_iterator())\n",
    "        n_candidates = len(candidate_params)\n",
    "        param_names = self.param_grid.keys()\n",
    "        \n",
    "        if self.verbose > 0:\n",
    "            print(\"Fitting {0} folds for each of {1} candidates, totalling\"\n",
    "                  \" {2} fits\".format(n_splits, n_candidates,\n",
    "                                     n_candidates * n_splits))\n",
    "        if path_to_results is not None:\n",
    "            saverez = True\n",
    "            tmp = os.path.join(path_to_results,'tmp')\n",
    "            if not os.path.isdir(tmp):\n",
    "                os.mkdir(tmp)\n",
    "            fname_loss = os.path.join(tmp,'loss.png')\n",
    "            fname_score = os.path.join(tmp,'score.png')\n",
    "            \n",
    "        else:\n",
    "            saverez = False\n",
    "            fname_loss = None\n",
    "            fname_score = None\n",
    "            if not os.path.isdir('tmp'):\n",
    "                os.mkdir('tmp')\n",
    "            tmp = 'tmp'\n",
    "        \n",
    "        self.cv_scores_ = np.array([])\n",
    "        #self.cv_scores_ = []\n",
    "        self.best_score_ = 0\n",
    "        idparams = 0\n",
    "        indices = []\n",
    "        with open(os.path.join(path_to_results, 'idtopars.csv'), 'w') as idp:\n",
    "            idp.write(','.join(['id']+[p for p in param_names]))\n",
    "            idp.write('\\n')\n",
    "        \n",
    "        for params in candidate_params:\n",
    "            idparams += 1\n",
    "            index='{0:04}'.format(idparams)\n",
    "            indices.append(index)\n",
    "            #self.cv_scores_.append([])\n",
    "            fold = 0\n",
    "            best_n_iters = np.array([])\n",
    "            for train, val in cv.split(X_train, y_train, groups):\n",
    "                estimator = clone(self.estimator)\n",
    "                estimator.set_params(**params)\n",
    "                estimator.fit(X_train[train], y_train[train], X_val=X_train[val], y_val=y_train[val],\n",
    "                                scoring=self.scoring, verbose=self.verbose, plotcurves=saverez,\n",
    "                                fname_loss=fname_loss, fname_score=fname_score,\n",
    "                                fname_bestmodel=os.path.join(tmp,'model'+index+str(fold)+'.hdf5'))\n",
    "                best_n_iters = np.append(best_n_iters, estemator.log_.bestepoch)\n",
    "                #self.cv_scores_[-1].append(estimator.best_score_)\n",
    "                \n",
    "                if saverez:\n",
    "                    self._save_results(path_to_results, index, str(fold), estimator)\n",
    "                with open(os.path.join(path_to_results, 'idtopars.csv'), 'a') as idp:\n",
    "                    idp.write(','.join([index]+[str(params[p]) for p in param_names]))\n",
    "                    idp.write('\\n')\n",
    "                fold += 1\n",
    "                \n",
    "            # Testing the best models for each fold on the hold-out data (1)\n",
    "            # and testing a new model (trained on all the train dataset) \n",
    "            # with the average best number of epochs on the hold-out data (2)\n",
    "            # (1)\n",
    "            preds1 = np.empty(shape=(X_test.shape[0], n_splits))\n",
    "            mean_score = 0\n",
    "            for fold in  range(n_splits):\n",
    "                if saverez:\n",
    "                    path_to_model = os.path.join(path_to_results, index, 'model'+index+str(fold)+'.hdf5')\n",
    "                else:\n",
    "                    path_to_model = os.path.join(tmp, index, 'model'+index+str(fold)+'.hdf5')\n",
    "                estimator = clone(self.estimator) \n",
    "                estimator.set_model(load_model(path_to_model))\n",
    "                estimator.set_params(**params)\n",
    "                preds1[:, fold] = estimator.predict_proba(X_test)[:,0]\n",
    "                \n",
    "            K.clear_session()\n",
    "            \n",
    "            y_pred1 = preds1.mean(axis=1)\n",
    "            \n",
    "            # (2) In process...\n",
    "            best_n_iter = best_n_iters.mean()\n",
    "            estimator = clone(self.estimator)\n",
    "            estimator.set_params(**params)\n",
    "            estimator.fit(X_train[train], y_train[train], X_val=X_train[val], y_val=y_train[val],\n",
    "                            scoring=self.scoring, n_iter=best_n_iter, verbose=self.verbose, \n",
    "                            plotcurves=saverez,fname_loss=???fname_loss, fname_score=???fname_score,\n",
    "                            fname_best(last???)model=???os.path.join(tmp,'model'+index+str(fold)+'.hdf5'))\n",
    "            try:\n",
    "                if scoring=='auc':\n",
    "                    score = roc_auc_score(y_test, y_pred)\n",
    "                elif scoring=='acc':\n",
    "                    score = accuracy_score(y_test, y_pred)\n",
    "                else:\n",
    "                    raise ValueError(message=\"No such option: '%s'. Use 'auc' or 'acc'\"%str(scoring))\n",
    "            except ValueError as err:\n",
    "                print(err)\n",
    "                \n",
    "            if saverez:\n",
    "                with open(os.path.join(path_to_results, 'score_table.csv'), 'a') as fout:\n",
    "                    fout.write(index+','+str(score))\n",
    "                    fout.write('\\n')\n",
    "                \n",
    "                fpr, tpr, thresholds = roc_curve(y_test, y_pred)\n",
    "                np.savez(os.path.join(path_to_results, index, 'final_tpr_fpr_thres'+index), \n",
    "                        {'tpr':tpr, 'fpr':fpr, 'thresholds':thresholds})\n",
    "                plt.title('ROC curve')\n",
    "                plt.xlabel('FPR')\n",
    "                plt.ylabel('TPR')\n",
    "                plt.plot(fpr, tpr)\n",
    "                plt.savefig(os.path.join(path_to_results, index, 'ROC_curve.png'))\n",
    "                plt.clf()\n",
    "                plt.cla()\n",
    "            \n",
    "            self.cv_scores_ = np.append(self.cv_scores_, score)\n",
    "            \n",
    "        self.best_ind_ = self.cv_scores_.argmax()\n",
    "        self.best_score_ = self.cv_scores_[self.best_ind_]\n",
    "        self.best_params_ = candidate_params[self.best_ind_]\n",
    "        \n",
    "        if saverez:\n",
    "            with open(os.path.join(path_to_results, 'score_table.csv'), 'w') as fout:\n",
    "                ind = np.argsort(self.cv_scores_)\n",
    "                for i in ind[::-1]:\n",
    "                    fout.write(indices[i]+','+str(self.cv_scores_[i]))\n",
    "                    fout.write('\\n')\n",
    "        os.rmdir(tmp)\n",
    "        \n",
    "            \n",
    "        #self.cv_scores_ = reduce(lambda a,b: np.vstack((np.array(a),np.array(b))), self.cv_scores_)\n",
    "        #self.mean_scores_ = self.cv_scores_.mean(axis=1)\n",
    "        #self.best_score_ = self.cv_scores_.max()\n",
    "        #self.best_mean_score_ = self.mean_scores_.max()\n",
    "        #self.best_ind_ = self.mean_scores_.argmax()\n",
    "        \n",
    "        \n",
    "        '''\n",
    "        self.best_params_ = candidate_params[self.best_ind_]\n",
    "        if self.refit:\n",
    "            if self.verbose > 0:\n",
    "            print(\"Grid search is almost done.\\n\"\n",
    "                  \"Best score is %.6f, best mean score is %.6f.\\n\"\n",
    "                  \"Now the best estimator is training...\"%(self.best_score_, self.best_mean_score_))\n",
    "            \n",
    "            self.best_estimator_ = clone(self.estimator).set_params(**self.best_params_)\n",
    "            self.best_estimator_.fit(X,y)\n",
    "        '''\n",
    "        return self\n",
    "        "
   ]
  },
  {
   "cell_type": "code",
   "execution_count": 8,
   "metadata": {
    "collapsed": true
   },
   "outputs": [],
   "source": [
    "'''\n",
    "param_grid = {\n",
    "    'n_iter' : [100, 200, 300],\n",
    "    'l1' : [0., 0.2, 0.4, 0.6],\n",
    "    'l2' : [0., 0.2, 0.4, 0.6],\n",
    "    'dropout' : [0., 0.2, 0.4, 0.6],\n",
    "    'dropout_lstm' : [0., 0.2, 0.4, 0.6],\n",
    "    'recurrent_dropout' : [0., 0.2, 0.4, 0.6],\n",
    "}\n",
    "'''\n",
    "param_grid = {\n",
    "    'n_iter' : [3, 2],\n",
    "    'l1' : [0., 0.2]\n",
    "}"
   ]
  },
  {
   "cell_type": "code",
   "execution_count": 9,
   "metadata": {
    "collapsed": true
   },
   "outputs": [],
   "source": [
    "from sklearn.model_selection import StratifiedShuffleSplit\n",
    "clf = CnnLstmClassifier()\n",
    "cv = StratifiedShuffleSplit(n_splits=3, test_size = 0.33, random_state = 108)\n",
    "gs = GridSearch(clf, param_grid, cv=cv, verbose=1)"
   ]
  },
  {
   "cell_type": "code",
   "execution_count": 10,
   "metadata": {
    "scrolled": true
   },
   "outputs": [
    {
     "name": "stdout",
     "output_type": "stream",
     "text": [
      "Fitting 3 folds for each of 4 candidates, totalling 12 fits\n",
      "('Training model with parameters:', {'loss': 'binary_crossentropy', 'recurrent_dropout': 0.0, 'n_iter': 3, 'learning_rate': 0.001, 'batch_size': 10, 'n_filters': 10, 'l2': 0.0, 'n_lstm': 30, 'l1': 0.0, 'threshold': 0.5, 'dropout_lstm': 0.0, 'dropout': 0.0})\n"
     ]
    },
    {
     "name": "stderr",
     "output_type": "stream",
     "text": [
      "Training began\n",
      "Epoch 1/3: train loss = 0.665459, test loss = 0.663981\n",
      "\tacc = 0.606452, test acc = 0.623377\n",
      "\tauc = 0.557943\n",
      "Epoch 2/3: train loss = 0.625858, test loss = 0.668998\n",
      "\tacc = 0.683871, test acc = 0.629870\n",
      "\tauc = 0.557576\n",
      "Epoch 3/3: train loss = 0.610198, test loss = 0.669568\n",
      "\tacc = 0.680645, test acc = 0.597403\n",
      "\tauc = 0.554637\n"
     ]
    },
    {
     "name": "stdout",
     "output_type": "stream",
     "text": [
      "('Training model with parameters:', {'loss': 'binary_crossentropy', 'recurrent_dropout': 0.0, 'n_iter': 3, 'learning_rate': 0.001, 'batch_size': 10, 'n_filters': 10, 'l2': 0.0, 'n_lstm': 30, 'l1': 0.0, 'threshold': 0.5, 'dropout_lstm': 0.0, 'dropout': 0.0})\n"
     ]
    },
    {
     "name": "stderr",
     "output_type": "stream",
     "text": [
      "Training began\n",
      "Epoch 1/3: train loss = 0.698701, test loss = 0.666905\n",
      "\tacc = 0.538710, test acc = 0.610390\n",
      "\tauc = 0.566758\n",
      "Epoch 2/3: train loss = 0.634900, test loss = 0.639810\n",
      "\tacc = 0.648387, test acc = 0.655844\n",
      "\tauc = 0.595041\n",
      "Epoch 3/3: train loss = 0.607467, test loss = 0.631236\n",
      "\tacc = 0.664516, test acc = 0.616883\n",
      "\tauc = 0.606244\n"
     ]
    },
    {
     "name": "stdout",
     "output_type": "stream",
     "text": [
      "('Training model with parameters:', {'loss': 'binary_crossentropy', 'recurrent_dropout': 0.0, 'n_iter': 3, 'learning_rate': 0.001, 'batch_size': 10, 'n_filters': 10, 'l2': 0.0, 'n_lstm': 30, 'l1': 0.0, 'threshold': 0.5, 'dropout_lstm': 0.0, 'dropout': 0.0})\n"
     ]
    },
    {
     "name": "stderr",
     "output_type": "stream",
     "text": [
      "Training began\n",
      "Epoch 1/3: train loss = 0.691356, test loss = 0.644965\n",
      "\tacc = 0.632258, test acc = 0.610390\n",
      "\tauc = 0.585124\n",
      "Epoch 2/3: train loss = 0.618339, test loss = 0.648907\n",
      "\tacc = 0.674194, test acc = 0.655844\n",
      "\tauc = 0.578145\n",
      "Epoch 3/3: train loss = 0.583220, test loss = 0.668970\n",
      "\tacc = 0.680645, test acc = 0.577922\n",
      "\tauc = 0.552801\n"
     ]
    },
    {
     "name": "stdout",
     "output_type": "stream",
     "text": [
      "('Training model with parameters:', {'loss': 'binary_crossentropy', 'recurrent_dropout': 0.0, 'n_iter': 2, 'learning_rate': 0.001, 'batch_size': 10, 'n_filters': 10, 'l2': 0.0, 'n_lstm': 30, 'l1': 0.0, 'threshold': 0.5, 'dropout_lstm': 0.0, 'dropout': 0.0})\n"
     ]
    },
    {
     "name": "stderr",
     "output_type": "stream",
     "text": [
      "Training began\n",
      "Epoch 1/2: train loss = 0.701807, test loss = 0.640706\n",
      "\tacc = 0.535484, test acc = 0.603896\n",
      "\tauc = 0.623508\n",
      "Epoch 2/2: train loss = 0.637578, test loss = 0.640535\n",
      "\tacc = 0.632258, test acc = 0.623377\n",
      "\tauc = 0.620937\n"
     ]
    },
    {
     "name": "stdout",
     "output_type": "stream",
     "text": [
      "('Training model with parameters:', {'loss': 'binary_crossentropy', 'recurrent_dropout': 0.0, 'n_iter': 2, 'learning_rate': 0.001, 'batch_size': 10, 'n_filters': 10, 'l2': 0.0, 'n_lstm': 30, 'l1': 0.0, 'threshold': 0.5, 'dropout_lstm': 0.0, 'dropout': 0.0})\n"
     ]
    },
    {
     "name": "stderr",
     "output_type": "stream",
     "text": [
      "Training began\n",
      "Epoch 1/2: train loss = 0.693211, test loss = 0.677308\n",
      "\tacc = 0.587097, test acc = 0.590909\n",
      "\tauc = 0.526722\n",
      "Epoch 2/2: train loss = 0.621965, test loss = 0.677240\n",
      "\tacc = 0.687097, test acc = 0.603896\n",
      "\tauc = 0.520845\n"
     ]
    },
    {
     "name": "stdout",
     "output_type": "stream",
     "text": [
      "('Training model with parameters:', {'loss': 'binary_crossentropy', 'recurrent_dropout': 0.0, 'n_iter': 2, 'learning_rate': 0.001, 'batch_size': 10, 'n_filters': 10, 'l2': 0.0, 'n_lstm': 30, 'l1': 0.0, 'threshold': 0.5, 'dropout_lstm': 0.0, 'dropout': 0.0})\n"
     ]
    },
    {
     "name": "stderr",
     "output_type": "stream",
     "text": [
      "Training began\n",
      "Epoch 1/2: train loss = 0.659916, test loss = 0.648646\n",
      "\tacc = 0.587097, test acc = 0.642857\n",
      "\tauc = 0.548393\n",
      "Epoch 2/2: train loss = 0.615282, test loss = 0.669243\n",
      "\tacc = 0.670968, test acc = 0.597403\n",
      "\tauc = 0.490725\n"
     ]
    },
    {
     "name": "stdout",
     "output_type": "stream",
     "text": [
      "('Training model with parameters:', {'loss': 'binary_crossentropy', 'recurrent_dropout': 0.0, 'n_iter': 3, 'learning_rate': 0.001, 'batch_size': 10, 'n_filters': 10, 'l2': 0.0, 'n_lstm': 30, 'l1': 0.2, 'threshold': 0.5, 'dropout_lstm': 0.0, 'dropout': 0.0})\n"
     ]
    },
    {
     "name": "stderr",
     "output_type": "stream",
     "text": [
      "Training began\n",
      "Epoch 1/3: train loss = 24.247075, test loss = 15.179784\n",
      "\tacc = 0.603226, test acc = 0.642857\n",
      "\tauc = 0.615978\n",
      "Epoch 2/3: train loss = 9.803215, test loss = 5.227187\n",
      "\tacc = 0.625806, test acc = 0.597403\n",
      "\tauc = 0.614141\n",
      "Epoch 3/3: train loss = 2.889493, test loss = 1.244672\n",
      "\tacc = 0.606452, test acc = 0.642857\n",
      "\tauc = 0.599265\n"
     ]
    },
    {
     "name": "stdout",
     "output_type": "stream",
     "text": [
      "('Training model with parameters:', {'loss': 'binary_crossentropy', 'recurrent_dropout': 0.0, 'n_iter': 3, 'learning_rate': 0.001, 'batch_size': 10, 'n_filters': 10, 'l2': 0.0, 'n_lstm': 30, 'l1': 0.2, 'threshold': 0.5, 'dropout_lstm': 0.0, 'dropout': 0.0})\n"
     ]
    },
    {
     "name": "stderr",
     "output_type": "stream",
     "text": [
      "Training began\n",
      "Epoch 1/3: train loss = 24.987036, test loss = 15.853807\n",
      "\tacc = 0.554839, test acc = 0.642857\n",
      "\tauc = 0.540496\n",
      "Epoch 2/3: train loss = 10.287341, test loss = 5.525069\n",
      "\tacc = 0.645161, test acc = 0.649351\n",
      "\tauc = 0.577227\n",
      "Epoch 3/3: train loss = 2.997478, test loss = 1.309677\n",
      "\tacc = 0.664516, test acc = 0.629870\n",
      "\tauc = 0.643159\n"
     ]
    },
    {
     "name": "stdout",
     "output_type": "stream",
     "text": [
      "('Training model with parameters:', {'loss': 'binary_crossentropy', 'recurrent_dropout': 0.0, 'n_iter': 3, 'learning_rate': 0.001, 'batch_size': 10, 'n_filters': 10, 'l2': 0.0, 'n_lstm': 30, 'l1': 0.2, 'threshold': 0.5, 'dropout_lstm': 0.0, 'dropout': 0.0})\n"
     ]
    },
    {
     "name": "stderr",
     "output_type": "stream",
     "text": [
      "Training began\n",
      "Epoch 1/3: train loss = 24.788476, test loss = 15.794339\n",
      "\tacc = 0.587097, test acc = 0.597403\n",
      "\tauc = 0.510927\n",
      "Epoch 2/3: train loss = 10.362221, test loss = 5.689438\n",
      "\tacc = 0.658065, test acc = 0.649351\n",
      "\tauc = 0.508540\n",
      "Epoch 3/3: train loss = 3.118126, test loss = 1.404012\n",
      "\tacc = 0.632258, test acc = 0.616883\n",
      "\tauc = 0.515335\n"
     ]
    },
    {
     "name": "stdout",
     "output_type": "stream",
     "text": [
      "('Training model with parameters:', {'loss': 'binary_crossentropy', 'recurrent_dropout': 0.0, 'n_iter': 2, 'learning_rate': 0.001, 'batch_size': 10, 'n_filters': 10, 'l2': 0.0, 'n_lstm': 30, 'l1': 0.2, 'threshold': 0.5, 'dropout_lstm': 0.0, 'dropout': 0.0})\n"
     ]
    },
    {
     "name": "stderr",
     "output_type": "stream",
     "text": [
      "Training began\n",
      "Epoch 1/2: train loss = 24.789808, test loss = 15.836555\n",
      "\tacc = 0.616129, test acc = 0.610390\n",
      "\tauc = 0.385308\n",
      "Epoch 2/2: train loss = 10.273459, test loss = 5.466824\n",
      "\tacc = 0.641935, test acc = 0.623377\n",
      "\tauc = 0.584206\n"
     ]
    },
    {
     "name": "stdout",
     "output_type": "stream",
     "text": [
      "('Training model with parameters:', {'loss': 'binary_crossentropy', 'recurrent_dropout': 0.0, 'n_iter': 2, 'learning_rate': 0.001, 'batch_size': 10, 'n_filters': 10, 'l2': 0.0, 'n_lstm': 30, 'l1': 0.2, 'threshold': 0.5, 'dropout_lstm': 0.0, 'dropout': 0.0})\n"
     ]
    },
    {
     "name": "stderr",
     "output_type": "stream",
     "text": [
      "Training began\n",
      "Epoch 1/2: train loss = 24.432069, test loss = 15.398808\n",
      "\tacc = 0.570968, test acc = 0.623377\n",
      "\tauc = 0.601469\n",
      "Epoch 2/2: train loss = 10.010812, test loss = 5.355765\n",
      "\tacc = 0.635484, test acc = 0.629870\n",
      "\tauc = 0.677502\n"
     ]
    },
    {
     "name": "stdout",
     "output_type": "stream",
     "text": [
      "('Training model with parameters:', {'loss': 'binary_crossentropy', 'recurrent_dropout': 0.0, 'n_iter': 2, 'learning_rate': 0.001, 'batch_size': 10, 'n_filters': 10, 'l2': 0.0, 'n_lstm': 30, 'l1': 0.2, 'threshold': 0.5, 'dropout_lstm': 0.0, 'dropout': 0.0})\n"
     ]
    },
    {
     "name": "stderr",
     "output_type": "stream",
     "text": [
      "Training began\n",
      "Epoch 1/2: train loss = 25.754223, test loss = 16.528179\n",
      "\tacc = 0.480645, test acc = 0.623377\n",
      "\tauc = 0.476400\n",
      "Epoch 2/2: train loss = 10.783096, test loss = 5.810811\n",
      "\tacc = 0.645161, test acc = 0.623377\n",
      "\tauc = 0.519008\n"
     ]
    },
    {
     "name": "stdout",
     "output_type": "stream",
     "text": [
      "CPU times: user 1min 51s, sys: 3.1 s, total: 1min 54s\n",
      "Wall time: 1min 39s\n"
     ]
    },
    {
     "data": {
      "text/plain": [
       "<__main__.GridSearch instance at 0x7f176c85e680>"
      ]
     },
     "execution_count": 10,
     "metadata": {},
     "output_type": "execute_result"
    }
   ],
   "source": [
    "%%time\n",
    "gs.fit(X_train, y_train, X_test, y_test, path_to_results='results')"
   ]
  },
  {
   "cell_type": "code",
   "execution_count": 56,
   "metadata": {},
   "outputs": [
    {
     "name": "stdout",
     "output_type": "stream",
     "text": [
      "CnnLstmClassifier(batch_size=10, dropout=0.0, dropout_lstm=0.0, l1=0.0,\n",
      "         l2=0.0, learning_rate=0.001, loss='binary_crossentropy',\n",
      "         n_filters=10, n_iter=3, n_lstm=30, recurrent_dropout=0.0,\n",
      "         threshold=0.5)\n",
      "{'n_iter': 3, 'l1': 0.0}\n",
      "0.6474608224343114\n"
     ]
    }
   ],
   "source": [
    "print(gs.best_estimator_)\n",
    "print(gs.best_params_)\n",
    "print(gs.best_score_)"
   ]
  },
  {
   "cell_type": "code",
   "execution_count": null,
   "metadata": {
    "collapsed": true
   },
   "outputs": [],
   "source": []
  }
 ],
 "metadata": {
  "kernelspec": {
   "display_name": "Python 2",
   "language": "python",
   "name": "python2"
  },
  "language_info": {
   "codemirror_mode": {
    "name": "ipython",
    "version": 2
   },
   "file_extension": ".py",
   "mimetype": "text/x-python",
   "name": "python",
   "nbconvert_exporter": "python",
   "pygments_lexer": "ipython2",
   "version": "2.7.14"
  }
 },
 "nbformat": 4,
 "nbformat_minor": 2
}
